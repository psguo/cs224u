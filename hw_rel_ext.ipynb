{
 "cells": [
  {
   "cell_type": "markdown",
   "metadata": {},
   "source": [
    "# Homework and bake-off: Relation extraction using distant supervision"
   ]
  },
  {
   "cell_type": "code",
   "execution_count": 2,
   "metadata": {},
   "outputs": [],
   "source": [
    "__author__ = \"Bill MacCartney and Christopher Potts\"\n",
    "__version__ = \"CS224u, Stanford, Spring 2020\""
   ]
  },
  {
   "cell_type": "markdown",
   "metadata": {},
   "source": [
    "## Contents\n",
    "\n",
    "1. [Overview](#Overview)\n",
    "1. [Set-up](#Set-up)\n",
    "1. [Baselines](#Baselines)\n",
    "  1. [Hand-build feature functions](#Hand-build-feature-functions)\n",
    "  1. [Distributed representations](#Distributed-representations)\n",
    "1. [Homework questions](#Homework-questions)\n",
    "  1. [Different model factory [1 points]](#Different-model-factory-[1-points])\n",
    "  1. [Directional unigram features [1.5 points]](#Directional-unigram-features-[1.5-points])\n",
    "  1. [The part-of-speech tags of the \"middle\" words [1.5 points]](#The-part-of-speech-tags-of-the-\"middle\"-words-[1.5-points])\n",
    "  1. [Bag of Synsets [2 points]](#Bag-of-Synsets-[2-points])\n",
    "  1. [Your original system [3 points]](#Your-original-system-[3-points])\n",
    "1. [Bake-off [1 point]](#Bake-off-[1-point])"
   ]
  },
  {
   "cell_type": "markdown",
   "metadata": {},
   "source": [
    "## Overview\n",
    "\n",
    "This homework and associated bake-off are devoted to developing really effective relation extraction systems using distant supervision. \n",
    "\n",
    "As with the previous assignments, this notebook first establishes a baseline system. The initial homework questions ask you to create additional baselines and suggest areas for innovation, and the final homework question asks you to develop an original system for you to enter into the bake-off."
   ]
  },
  {
   "cell_type": "markdown",
   "metadata": {},
   "source": [
    "## Set-up\n",
    "\n",
    "See [the first notebook in this unit](rel_ext_01_task.ipynb#Set-up) for set-up instructions."
   ]
  },
  {
   "cell_type": "code",
   "execution_count": 1,
   "metadata": {},
   "outputs": [],
   "source": [
    "import numpy as np\n",
    "import os\n",
    "import rel_ext\n",
    "from sklearn.linear_model import LogisticRegression\n",
    "import utils"
   ]
  },
  {
   "cell_type": "markdown",
   "metadata": {},
   "source": [
    "As usual, we unite our corpus and KB into a dataset, and create some splits for experimentation:"
   ]
  },
  {
   "cell_type": "code",
   "execution_count": 3,
   "metadata": {},
   "outputs": [],
   "source": [
    "rel_ext_data_home = os.path.join('data', 'rel_ext_data')"
   ]
  },
  {
   "cell_type": "code",
   "execution_count": 4,
   "metadata": {},
   "outputs": [],
   "source": [
    "corpus = rel_ext.Corpus(os.path.join(rel_ext_data_home, 'corpus.tsv.gz'))"
   ]
  },
  {
   "cell_type": "code",
   "execution_count": 5,
   "metadata": {},
   "outputs": [],
   "source": [
    "kb = rel_ext.KB(os.path.join(rel_ext_data_home, 'kb.tsv.gz'))"
   ]
  },
  {
   "cell_type": "code",
   "execution_count": 6,
   "metadata": {},
   "outputs": [],
   "source": [
    "dataset = rel_ext.Dataset(corpus, kb)"
   ]
  },
  {
   "cell_type": "markdown",
   "metadata": {},
   "source": [
    "You are not wedded to this set-up for splits. The bake-off will be conducted on a previously unseen test-set, so all of the data in `dataset` is fair game:"
   ]
  },
  {
   "cell_type": "code",
   "execution_count": 7,
   "metadata": {},
   "outputs": [],
   "source": [
    "splits = dataset.build_splits(\n",
    "    split_names=['tiny', 'train', 'dev'],\n",
    "    split_fracs=[0.01, 0.79, 0.20],\n",
    "    seed=1)"
   ]
  },
  {
   "cell_type": "code",
   "execution_count": 8,
   "metadata": {},
   "outputs": [
    {
     "data": {
      "text/plain": [
       "{'tiny': Corpus with 3,474 examples; KB with 445 triples,\n",
       " 'train': Corpus with 263,285 examples; KB with 36,191 triples,\n",
       " 'dev': Corpus with 64,937 examples; KB with 9,248 triples,\n",
       " 'all': Corpus with 331,696 examples; KB with 45,884 triples}"
      ]
     },
     "execution_count": 8,
     "metadata": {},
     "output_type": "execute_result"
    }
   ],
   "source": [
    "splits"
   ]
  },
  {
   "cell_type": "markdown",
   "metadata": {},
   "source": [
    "## Baselines"
   ]
  },
  {
   "cell_type": "markdown",
   "metadata": {},
   "source": [
    "### Hand-build feature functions"
   ]
  },
  {
   "cell_type": "code",
   "execution_count": 2,
   "metadata": {},
   "outputs": [],
   "source": [
    "def simple_bag_of_words_featurizer(kbt, corpus, feature_counter):\n",
    "    for ex in corpus.get_examples_for_entities(kbt.sbj, kbt.obj):\n",
    "        for word in ex.middle.split(' '):\n",
    "            feature_counter[word] += 1\n",
    "    for ex in corpus.get_examples_for_entities(kbt.obj, kbt.sbj):\n",
    "        for word in ex.middle.split(' '):\n",
    "            feature_counter[word] += 1\n",
    "    return feature_counter"
   ]
  },
  {
   "cell_type": "code",
   "execution_count": 10,
   "metadata": {},
   "outputs": [],
   "source": [
    "featurizers = [simple_bag_of_words_featurizer]"
   ]
  },
  {
   "cell_type": "code",
   "execution_count": 11,
   "metadata": {},
   "outputs": [],
   "source": [
    "model_factory = lambda: LogisticRegression(fit_intercept=True, solver='liblinear')"
   ]
  },
  {
   "cell_type": "code",
   "execution_count": 12,
   "metadata": {},
   "outputs": [
    {
     "name": "stdout",
     "output_type": "stream",
     "text": [
      "relation              precision     recall    f-score    support       size\n",
      "------------------    ---------  ---------  ---------  ---------  ---------\n",
      "adjoins                   0.898      0.388      0.711        340       5716\n",
      "author                    0.845      0.527      0.754        509       5885\n",
      "capital                   0.536      0.158      0.362         95       5471\n",
      "contains                  0.789      0.602      0.743       3904       9280\n",
      "film_performance          0.785      0.550      0.723        766       6142\n",
      "founders                  0.842      0.405      0.692        380       5756\n",
      "genre                     0.540      0.159      0.365        170       5546\n",
      "has_sibling               0.826      0.246      0.562        499       5875\n",
      "has_spouse                0.868      0.322      0.648        594       5970\n",
      "is_a                      0.690      0.241      0.503        497       5873\n",
      "nationality               0.638      0.199      0.443        301       5677\n",
      "parents                   0.848      0.535      0.759        312       5688\n",
      "place_of_birth            0.632      0.206      0.447        233       5609\n",
      "place_of_death            0.545      0.113      0.309        159       5535\n",
      "profession                0.646      0.170      0.414        247       5623\n",
      "worked_at                 0.725      0.240      0.516        242       5618\n",
      "------------------    ---------  ---------  ---------  ---------  ---------\n",
      "macro-average             0.728      0.316      0.560       9248      95264\n"
     ]
    }
   ],
   "source": [
    "baseline_results = rel_ext.experiment(\n",
    "    splits,\n",
    "    train_split='train',\n",
    "    test_split='dev',\n",
    "    featurizers=featurizers,\n",
    "    model_factory=model_factory,\n",
    "    verbose=True)"
   ]
  },
  {
   "cell_type": "markdown",
   "metadata": {},
   "source": [
    "Studying model weights might yield insights:"
   ]
  },
  {
   "cell_type": "code",
   "execution_count": 13,
   "metadata": {},
   "outputs": [
    {
     "name": "stdout",
     "output_type": "stream",
     "text": [
      "Highest and lowest feature weights for relation adjoins:\n",
      "\n",
      "     2.558 Córdoba\n",
      "     2.491 Taluks\n",
      "     2.464 Valais\n",
      "     ..... .....\n",
      "    -1.362 based\n",
      "    -1.512 America\n",
      "    -2.308 Earth\n",
      "\n",
      "Highest and lowest feature weights for relation author:\n",
      "\n",
      "     2.484 author\n",
      "     2.423 wrote\n",
      "     2.192 by\n",
      "     ..... .....\n",
      "    -2.296 played\n",
      "    -3.663 17th\n",
      "    -3.674 1945\n",
      "\n",
      "Highest and lowest feature weights for relation capital:\n",
      "\n",
      "     2.593 capital\n",
      "     1.850 posted\n",
      "     1.552 especially\n",
      "     ..... .....\n",
      "    -1.464 borough\n",
      "    -2.044 Province\n",
      "    -2.076 Isfahan\n",
      "\n",
      "Highest and lowest feature weights for relation contains:\n",
      "\n",
      "     2.485 bordered\n",
      "     2.112 attended\n",
      "     1.954 southwestern\n",
      "     ..... .....\n",
      "    -2.471 Henley-on-Thames\n",
      "    -2.548 who\n",
      "    -6.027 Bronx\n",
      "\n",
      "Highest and lowest feature weights for relation film_performance:\n",
      "\n",
      "     4.131 starring\n",
      "     3.802 co-starring\n",
      "     3.263 opposite\n",
      "     ..... .....\n",
      "    -1.992 Westminster\n",
      "    -2.155 Anjaani\n",
      "    -2.155 Anjaana\n",
      "\n",
      "Highest and lowest feature weights for relation founders:\n",
      "\n",
      "     4.159 founder\n",
      "     3.753 founded\n",
      "     3.686 co-founder\n",
      "     ..... .....\n",
      "    -1.468 play\n",
      "    -1.853 band\n",
      "    -2.141 writing\n",
      "\n",
      "Highest and lowest feature weights for relation genre:\n",
      "\n",
      "     3.007 series\n",
      "     2.619 movie\n",
      "     2.589 album\n",
      "     ..... .....\n",
      "    -1.461 ;\n",
      "    -1.476 and\n",
      "    -1.781 at\n",
      "\n",
      "Highest and lowest feature weights for relation has_sibling:\n",
      "\n",
      "     4.984 brother\n",
      "     3.861 sister\n",
      "     2.872 nephew\n",
      "     ..... .....\n",
      "    -1.526 Her\n",
      "    -1.843 grandson\n",
      "    -2.116 formed\n",
      "\n",
      "Highest and lowest feature weights for relation has_spouse:\n",
      "\n",
      "     5.466 wife\n",
      "     4.563 husband\n",
      "     4.465 widow\n",
      "     ..... .....\n",
      "    -1.951 Straus\n",
      "    -1.951 Isidor\n",
      "    -1.966 grandson\n",
      "\n",
      "Highest and lowest feature weights for relation is_a:\n",
      "\n",
      "     2.732 family\n",
      "     2.483 \n",
      "     2.478 Genus\n",
      "     ..... .....\n",
      "    -1.645 pitcher\n",
      "    -1.886 emperor\n",
      "    -2.902 hibiscus\n",
      "\n",
      "Highest and lowest feature weights for relation nationality:\n",
      "\n",
      "     3.003 born\n",
      "     2.096 ruler\n",
      "     2.037 rule\n",
      "     ..... .....\n",
      "    -1.362 Oldham\n",
      "    -1.443 region\n",
      "    -1.926 American\n",
      "\n",
      "Highest and lowest feature weights for relation parents:\n",
      "\n",
      "     4.877 son\n",
      "     4.160 daughter\n",
      "     4.088 father\n",
      "     ..... .....\n",
      "    -2.099 away\n",
      "    -2.498 passes\n",
      "    -2.967 Indian\n",
      "\n",
      "Highest and lowest feature weights for relation place_of_birth:\n",
      "\n",
      "     4.135 born\n",
      "     2.866 mayor\n",
      "     2.791 birthplace\n",
      "     ..... .....\n",
      "    -1.598 Indian\n",
      "    -1.737 Westminster\n",
      "    -2.260 Oldham\n",
      "\n",
      "Highest and lowest feature weights for relation place_of_death:\n",
      "\n",
      "     2.733 died\n",
      "     1.936 where\n",
      "     1.890 assassinated\n",
      "     ..... .....\n",
      "    -1.238 that\n",
      "    -1.248 and\n",
      "    -1.993 Westminster\n",
      "\n",
      "Highest and lowest feature weights for relation profession:\n",
      "\n",
      "     2.964 \n",
      "     2.575 American\n",
      "     2.300 English\n",
      "     ..... .....\n",
      "    -1.338 newcomer\n",
      "    -1.352 at\n",
      "    -2.044 on\n",
      "\n",
      "Highest and lowest feature weights for relation worked_at:\n",
      "\n",
      "     3.331 professor\n",
      "     2.966 CEO\n",
      "     2.801 employee\n",
      "     ..... .....\n",
      "    -1.086 after\n",
      "    -1.258 region\n",
      "    -1.592 or\n",
      "\n"
     ]
    }
   ],
   "source": [
    "rel_ext.examine_model_weights(baseline_results)"
   ]
  },
  {
   "cell_type": "markdown",
   "metadata": {},
   "source": [
    "### Distributed representations\n",
    "\n",
    "This simple baseline sums the GloVe vector representations for all of the words in the \"middle\" span and feeds those representations into the standard `LogisticRegression`-based `model_factory`. The crucial parameter that enables this is `vectorize=False`. This essentially says to `rel_ext.experiment` that your featurizer or your model will do the work of turning examples into vectors; in that case, `rel_ext.experiment` just organizes these representations by relation type."
   ]
  },
  {
   "cell_type": "code",
   "execution_count": 14,
   "metadata": {},
   "outputs": [],
   "source": [
    "GLOVE_HOME = os.path.join('data', 'glove.6B')"
   ]
  },
  {
   "cell_type": "code",
   "execution_count": 15,
   "metadata": {},
   "outputs": [],
   "source": [
    "glove_lookup = utils.glove2dict(\n",
    "    os.path.join(GLOVE_HOME, 'glove.6B.300d.txt'))"
   ]
  },
  {
   "cell_type": "code",
   "execution_count": 9,
   "metadata": {},
   "outputs": [],
   "source": [
    "def glove_middle_featurizer(kbt, corpus, np_func=np.sum):\n",
    "    reps = []\n",
    "    for ex in corpus.get_examples_for_entities(kbt.sbj, kbt.obj):\n",
    "        for word in ex.middle.split():\n",
    "            rep = glove_lookup.get(word)\n",
    "            if rep is not None:\n",
    "                reps.append(rep)\n",
    "    # A random representation of the right dimensionality if the\n",
    "    # example happens not to overlap with GloVe's vocabulary:\n",
    "    if len(reps) == 0:\n",
    "        dim = len(next(iter(glove_lookup.values())))                \n",
    "        return utils.randvec(n=dim)\n",
    "    else:\n",
    "        return np_func(reps, axis=0)"
   ]
  },
  {
   "cell_type": "code",
   "execution_count": 17,
   "metadata": {},
   "outputs": [
    {
     "name": "stdout",
     "output_type": "stream",
     "text": [
      "relation              precision     recall    f-score    support       size\n",
      "------------------    ---------  ---------  ---------  ---------  ---------\n",
      "adjoins                   0.873      0.444      0.732        340       5716\n",
      "author                    0.852      0.442      0.719        509       5885\n",
      "capital                   0.548      0.179      0.388         95       5471\n",
      "contains                  0.656      0.414      0.587       3904       9280\n",
      "film_performance          0.784      0.322      0.610        766       6142\n",
      "founders                  0.744      0.245      0.528        380       5756\n",
      "genre                     0.579      0.065      0.224        170       5546\n",
      "has_sibling               0.792      0.244      0.547        499       5875\n",
      "has_spouse                0.835      0.350      0.654        594       5970\n",
      "is_a                      0.731      0.153      0.416        497       5873\n",
      "nationality               0.692      0.209      0.474        301       5677\n",
      "parents                   0.851      0.404      0.697        312       5688\n",
      "place_of_birth            0.600      0.206      0.434        233       5609\n",
      "place_of_death            0.432      0.101      0.261        159       5535\n",
      "profession                0.588      0.121      0.333        247       5623\n",
      "worked_at                 0.750      0.273      0.556        242       5618\n",
      "------------------    ---------  ---------  ---------  ---------  ---------\n",
      "macro-average             0.707      0.261      0.510       9248      95264\n"
     ]
    }
   ],
   "source": [
    "glove_results = rel_ext.experiment(\n",
    "    splits,\n",
    "    train_split='train',\n",
    "    test_split='dev',\n",
    "    featurizers=[glove_middle_featurizer],    \n",
    "    vectorize=False, # Crucial for this featurizer!\n",
    "    verbose=True)"
   ]
  },
  {
   "cell_type": "markdown",
   "metadata": {},
   "source": [
    "With the same basic code design, one can also use the PyTorch models included in the course repo, or write new ones that are better aligned with the task. For those models, it's likely that the featurizer will just return a list of tokens (or perhaps a list of lists of tokens), and the model will map those into vectors using an embedding."
   ]
  },
  {
   "cell_type": "markdown",
   "metadata": {},
   "source": [
    "## Homework questions\n",
    "\n",
    "Please embed your homework responses in this notebook, and do not delete any cells from the notebook. (You are free to add as many cells as you like as part of your responses.)"
   ]
  },
  {
   "cell_type": "markdown",
   "metadata": {},
   "source": [
    "### Different model factory [1 points]\n",
    "\n",
    "The code in `rel_ext` makes it very easy to experiment with other classifier models: one need only redefine the `model_factory` argument. This question asks you to assess a [Support Vector Classifier](https://scikit-learn.org/stable/modules/generated/sklearn.svm.SVC.html).\n",
    "\n",
    "__To submit:__ A wrapper function `run_svm_model_factory` that does the following: \n",
    "\n",
    "1. Uses `rel_ext.experiment` with the model factory set to one based in an `SVC` with `kernel='linear'` and all other arguments left with default values. \n",
    "1. Trains on the 'train' part of `splits`.\n",
    "1. Assesses on the `dev` part of `splits`.\n",
    "1. Uses `featurizers` as defined above. \n",
    "1. Returns the return value of `rel_ext.experiment` for this set-up.\n",
    "\n",
    "The function `test_run_svm_model_factory` will check that your function conforms to these general specifications."
   ]
  },
  {
   "cell_type": "code",
   "execution_count": 18,
   "metadata": {},
   "outputs": [],
   "source": [
    "def run_svm_model_factory():\n",
    "    \n",
    "    ##### YOUR CODE HERE\n",
    "    from sklearn.svm import SVC\n",
    "    model_factory = lambda: SVC(kernel='linear')\n",
    "    \n",
    "    featurizers = [simple_bag_of_words_featurizer]\n",
    "    \n",
    "    svc_results = rel_ext.experiment(\n",
    "        splits,\n",
    "        train_split='train',\n",
    "        test_split='dev',\n",
    "        featurizers=featurizers,\n",
    "        model_factory=model_factory,\n",
    "        verbose=True)\n",
    "    \n",
    "    return svc_results\n",
    "\n"
   ]
  },
  {
   "cell_type": "code",
   "execution_count": 19,
   "metadata": {},
   "outputs": [],
   "source": [
    "def test_run_svm_model_factory(run_svm_model_factory):\n",
    "    results = run_svm_model_factory()\n",
    "    assert 'featurizers' in results, \\\n",
    "        \"The return value of `run_svm_model_factory` seems not to be correct\"\n",
    "    # Check one of the models to make sure it's an SVC:\n",
    "    assert 'SVC' in results['models']['adjoins'].__class__.__name__, \\\n",
    "        \"It looks like the model factor wasn't set to use an SVC.\"    "
   ]
  },
  {
   "cell_type": "code",
   "execution_count": 20,
   "metadata": {},
   "outputs": [
    {
     "name": "stdout",
     "output_type": "stream",
     "text": [
      "relation              precision     recall    f-score    support       size\n",
      "------------------    ---------  ---------  ---------  ---------  ---------\n",
      "adjoins                   0.850      0.332      0.648        340       5716\n",
      "author                    0.769      0.589      0.725        509       5885\n",
      "capital                   0.659      0.284      0.521         95       5471\n",
      "contains                  0.771      0.612      0.733       3904       9280\n",
      "film_performance          0.765      0.621      0.731        766       6142\n",
      "founders                  0.791      0.429      0.677        380       5756\n",
      "genre                     0.512      0.247      0.422        170       5546\n",
      "has_sibling               0.779      0.226      0.524        499       5875\n",
      "has_spouse                0.834      0.355      0.657        594       5970\n",
      "is_a                      0.592      0.292      0.491        497       5873\n",
      "nationality               0.542      0.193      0.398        301       5677\n",
      "parents                   0.824      0.583      0.761        312       5688\n",
      "place_of_birth            0.574      0.232      0.443        233       5609\n",
      "place_of_death            0.543      0.119      0.318        159       5535\n",
      "profession                0.566      0.243      0.447        247       5623\n",
      "worked_at                 0.701      0.310      0.560        242       5618\n",
      "------------------    ---------  ---------  ---------  ---------  ---------\n",
      "macro-average             0.692      0.354      0.566       9248      95264\n"
     ]
    }
   ],
   "source": [
    "if 'IS_GRADESCOPE_ENV' not in os.environ:\n",
    "    test_run_svm_model_factory(run_svm_model_factory)"
   ]
  },
  {
   "cell_type": "markdown",
   "metadata": {},
   "source": [
    "### Directional unigram features [1.5 points]\n",
    "\n",
    "The current bag-of-words representation makes no distinction between \"forward\" and \"reverse\" examples. But, intuitively, there is big difference between _X and his son Y_ and _Y and his son X_. This question asks you to modify `simple_bag_of_words_featurizer` to capture these differences. \n",
    "\n",
    "__To submit:__\n",
    "\n",
    "1. A feature function `directional_bag_of_words_featurizer` that is just like `simple_bag_of_words_featurizer` except that it distinguishes \"forward\" and \"reverse\". To do this, you just need to mark each word feature for whether it is derived from a subject–object example or from an object–subject example.  The included function `test_directional_bag_of_words_featurizer` should help verify that you've done this correctly.\n",
    "\n",
    "2. A call to `rel_ext.experiment` with `directional_bag_of_words_featurizer` as the only featurizer. (Aside from this, use all the default values for `rel_ext.experiment` as exemplified above in this notebook.)\n",
    "\n",
    "3. `rel_ext.experiment` returns some of the core objects used in the experiment. How many feature names does the `vectorizer` have for the experiment run in the previous step? Include the code needed for getting this value. (Note: we're partly asking you to figure out how to get this value by using the sklearn documentation, so please don't ask how to do it!)"
   ]
  },
  {
   "cell_type": "code",
   "execution_count": 10,
   "metadata": {},
   "outputs": [
    {
     "name": "stdout",
     "output_type": "stream",
     "text": [
      "relation              precision     recall    f-score    support       size\n",
      "------------------    ---------  ---------  ---------  ---------  ---------\n",
      "adjoins                   0.843      0.441      0.713        340       5716\n",
      "author                    0.820      0.591      0.761        509       5885\n",
      "capital                   0.639      0.242      0.481         95       5471\n",
      "contains                  0.817      0.648      0.777       3904       9280\n",
      "film_performance          0.845      0.663      0.801        766       6142\n",
      "founders                  0.799      0.408      0.670        380       5756\n",
      "genre                     0.703      0.306      0.558        170       5546\n",
      "has_sibling               0.855      0.248      0.575        499       5875\n",
      "has_spouse                0.855      0.357      0.668        594       5970\n",
      "is_a                      0.709      0.249      0.518        497       5873\n",
      "nationality               0.696      0.236      0.501        301       5677\n",
      "parents                   0.829      0.513      0.738        312       5688\n",
      "place_of_birth            0.725      0.215      0.491        233       5609\n",
      "place_of_death            0.500      0.126      0.313        159       5535\n",
      "profession                0.678      0.239      0.496        247       5623\n",
      "worked_at                 0.733      0.273      0.548        242       5618\n",
      "------------------    ---------  ---------  ---------  ---------  ---------\n",
      "macro-average             0.753      0.360      0.601       9248      95264\n"
     ]
    }
   ],
   "source": [
    "def directional_bag_of_words_featurizer(kbt, corpus, feature_counter): \n",
    "    # Append these to the end of the keys you add/access in \n",
    "    # `feature_counter` to distinguish the two orders. You'll\n",
    "    # need to use exactly these strings in order to pass \n",
    "    # `test_directional_bag_of_words_featurizer`.\n",
    "    subject_object_suffix = \"_SO\"\n",
    "    object_subject_suffix = \"_OS\"\n",
    "    \n",
    "    ##### YOUR CODE HERE\n",
    "    for ex in corpus.get_examples_for_entities(kbt.sbj, kbt.obj):\n",
    "        for word in ex.middle.split(' '):\n",
    "            feature_counter[word+subject_object_suffix] += 1\n",
    "    for ex in corpus.get_examples_for_entities(kbt.obj, kbt.sbj):\n",
    "        for word in ex.middle.split(' '):\n",
    "            feature_counter[word+object_subject_suffix] += 1\n",
    "    return feature_counter\n",
    "\n",
    "\n",
    "# Call to `rel_ext.experiment`:\n",
    "##### YOUR CODE HERE    \n",
    "\n",
    "featurizers = [directional_bag_of_words_featurizer]\n",
    "model_factory = lambda: LogisticRegression(fit_intercept=True, solver='liblinear')\n",
    "baseline_results = rel_ext.experiment(\n",
    "    splits,\n",
    "    train_split='train',\n",
    "    test_split='dev',\n",
    "    featurizers=featurizers,\n",
    "    model_factory=model_factory,\n",
    "    verbose=True)"
   ]
  },
  {
   "cell_type": "code",
   "execution_count": 22,
   "metadata": {},
   "outputs": [
    {
     "name": "stdout",
     "output_type": "stream",
     "text": [
      "Number of feature names:  40589\n"
     ]
    }
   ],
   "source": [
    "print(\"Number of feature names: \", len(baseline_results['vectorizer'].get_feature_names()))"
   ]
  },
  {
   "cell_type": "code",
   "execution_count": 12,
   "metadata": {},
   "outputs": [],
   "source": [
    "def test_directional_bag_of_words_featurizer(corpus):\n",
    "    from collections import defaultdict\n",
    "    kbt = rel_ext.KBTriple(rel='worked_at', sbj='Randall_Munroe', obj='xkcd')\n",
    "    feature_counter = defaultdict(int)\n",
    "    # Make sure `feature_counter` is being updated, not reinitialized:\n",
    "    feature_counter['is_OS'] += 5\n",
    "    feature_counter = directional_bag_of_words_featurizer(kbt, corpus, feature_counter)\n",
    "    expected = defaultdict(\n",
    "        int, {'is_OS':6,'a_OS':1,'webcomic_OS':1,'created_OS':1,'by_OS':1})\n",
    "    assert feature_counter == expected, \\\n",
    "        \"Expected:\\n{}\\nGot:\\n{}\".format(expected, feature_counter)"
   ]
  },
  {
   "cell_type": "code",
   "execution_count": 24,
   "metadata": {},
   "outputs": [],
   "source": [
    "if 'IS_GRADESCOPE_ENV' not in os.environ:\n",
    "    test_directional_bag_of_words_featurizer(corpus)"
   ]
  },
  {
   "cell_type": "markdown",
   "metadata": {},
   "source": [
    "### The part-of-speech tags of the \"middle\" words [1.5 points]\n",
    "\n",
    "Our corpus distribution contains part-of-speech (POS) tagged versions of the core text spans. Let's begin to explore whether there is information in these sequences, focusing on `middle_POS`.\n",
    "\n",
    "__To submit:__\n",
    "\n",
    "1. A feature function `middle_bigram_pos_tag_featurizer` that is just like `simple_bag_of_words_featurizer` except that it creates a feature for bigram POS sequences. For example, given \n",
    "\n",
    "  `The/DT dog/N napped/V`\n",
    "  \n",
    "   we obtain the list of bigram POS sequences\n",
    "  \n",
    "   `b = ['<s> DT', 'DT N', 'N V', 'V </s>']`. \n",
    "   \n",
    "   Of course, `middle_bigram_pos_tag_featurizer` should return count dictionaries defined in terms of such bigram POS lists, on the model of `simple_bag_of_words_featurizer`.  Don't forget the start and end tags, to model those environments properly! The included function `test_middle_bigram_pos_tag_featurizer` should help verify that you've done this correctly.\n",
    "\n",
    "2. A call to `rel_ext.experiment` with `middle_bigram_pos_tag_featurizer` as the only featurizer. (Aside from this, use all the default values for `rel_ext.experiment` as exemplified above in this notebook.)"
   ]
  },
  {
   "cell_type": "code",
   "execution_count": 11,
   "metadata": {},
   "outputs": [
    {
     "name": "stdout",
     "output_type": "stream",
     "text": [
      "relation              precision     recall    f-score    support       size\n",
      "------------------    ---------  ---------  ---------  ---------  ---------\n",
      "adjoins                   0.815      0.350      0.644        340       5716\n",
      "author                    0.704      0.346      0.583        509       5885\n",
      "capital                   0.516      0.168      0.365         95       5471\n",
      "contains                  0.753      0.589      0.713       3904       9280\n",
      "film_performance          0.706      0.441      0.630        766       6142\n",
      "founders                  0.550      0.187      0.396        380       5756\n",
      "genre                     0.682      0.176      0.434        170       5546\n",
      "has_sibling               0.638      0.180      0.423        499       5875\n",
      "has_spouse                0.761      0.273      0.560        594       5970\n",
      "is_a                      0.518      0.171      0.369        497       5873\n",
      "nationality               0.373      0.073      0.205        301       5677\n",
      "parents                   0.648      0.295      0.523        312       5688\n",
      "place_of_birth            0.577      0.129      0.340        233       5609\n",
      "place_of_death            0.378      0.088      0.228        159       5535\n",
      "profession                0.621      0.146      0.376        247       5623\n",
      "worked_at                 0.390      0.124      0.273        242       5618\n",
      "------------------    ---------  ---------  ---------  ---------  ---------\n",
      "macro-average             0.602      0.234      0.441       9248      95264\n"
     ]
    }
   ],
   "source": [
    "def middle_bigram_pos_tag_featurizer(kbt, corpus, feature_counter):\n",
    "    \n",
    "    ##### YOUR CODE HERE\n",
    "    for ex in corpus.get_examples_for_entities(kbt.sbj, kbt.obj):\n",
    "        tags = get_tags(ex.middle_POS)\n",
    "        for word in get_tag_bigrams(tags):\n",
    "            feature_counter[word] += 1\n",
    "    for ex in corpus.get_examples_for_entities(kbt.obj, kbt.sbj):\n",
    "        tags = get_tags(ex.middle_POS)\n",
    "        for word in get_tag_bigrams(tags):\n",
    "            feature_counter[word] += 1\n",
    "    return feature_counter\n",
    "\n",
    "def get_tag_bigrams(s):\n",
    "    \"\"\"Suggested helper method for `middle_bigram_pos_tag_featurizer`.\n",
    "    This should be defined so that it returns a list of str, where each \n",
    "    element is a POS bigram.\"\"\"\n",
    "    # The values of `start_symbol` and `end_symbol` are defined\n",
    "    # here so that you can use `test_middle_bigram_pos_tag_featurizer`.\n",
    "    start_symbol = \"<s>\"\n",
    "    end_symbol = \"</s>\"\n",
    "    \n",
    "    ##### YOUR CODE HERE\n",
    "    s = [start_symbol] + s + [end_symbol]\n",
    "    bigram_list = []\n",
    "    for x, y in zip(s, s[1:]): \n",
    "        bigram_list.append(x+' '+y)\n",
    "        \n",
    "    return bigram_list\n",
    "\n",
    "\n",
    "def get_tags(s): \n",
    "    \"\"\"Given a sequence of word/POS elements (lemmas), this function\n",
    "    returns a list containing just the POS elements, in order.    \n",
    "    \"\"\"\n",
    "    return [parse_lem(lem)[1] for lem in s.strip().split(' ') if lem]\n",
    "\n",
    "\n",
    "def parse_lem(lem):\n",
    "    \"\"\"Helper method for parsing word/POS elements. It just splits\n",
    "    on the rightmost / and returns (word, POS) as a tuple of str.\"\"\"\n",
    "    return lem.strip().rsplit('/', 1)  \n",
    "\n",
    "# Call to `rel_ext.experiment`:\n",
    "##### YOUR CODE HERE\n",
    "featurizers = [middle_bigram_pos_tag_featurizer]\n",
    "model_factory = lambda: LogisticRegression(fit_intercept=True, solver='liblinear')\n",
    "baseline_results = rel_ext.experiment(\n",
    "    splits,\n",
    "    train_split='train',\n",
    "    test_split='dev',\n",
    "    featurizers=featurizers,\n",
    "    model_factory=model_factory,\n",
    "    verbose=True)"
   ]
  },
  {
   "cell_type": "code",
   "execution_count": 26,
   "metadata": {},
   "outputs": [],
   "source": [
    "def test_middle_bigram_pos_tag_featurizer(corpus):\n",
    "    from collections import defaultdict\n",
    "    kbt = rel_ext.KBTriple(rel='worked_at', sbj='Randall_Munroe', obj='xkcd')\n",
    "    feature_counter = defaultdict(int)\n",
    "    # Make sure `feature_counter` is being updated, not reinitialized:\n",
    "    feature_counter['<s> VBZ'] += 5\n",
    "    feature_counter = middle_bigram_pos_tag_featurizer(kbt, corpus, feature_counter)\n",
    "    expected = defaultdict(\n",
    "        int, {'<s> VBZ':6,'VBZ DT':1,'DT JJ':1,'JJ VBN':1,'VBN IN':1,'IN </s>':1})\n",
    "    assert feature_counter == expected, \\\n",
    "        \"Expected:\\n{}\\nGot:\\n{}\".format(expected, feature_counter)"
   ]
  },
  {
   "cell_type": "code",
   "execution_count": 27,
   "metadata": {},
   "outputs": [],
   "source": [
    "if 'IS_GRADESCOPE_ENV' not in os.environ:\n",
    "    test_middle_bigram_pos_tag_featurizer(corpus)"
   ]
  },
  {
   "cell_type": "markdown",
   "metadata": {},
   "source": [
    "### Bag of Synsets [2 points]\n",
    "\n",
    "The following allows you to use NLTK's WordNet API to get the synsets compatible with _dog_ as used as a noun:\n",
    "\n",
    "```\n",
    "from nltk.corpus import wordnet as wn\n",
    "dog = wn.synsets('dog', pos='n')\n",
    "dog\n",
    "[Synset('dog.n.01'),\n",
    " Synset('frump.n.01'),\n",
    " Synset('dog.n.03'),\n",
    " Synset('cad.n.01'),\n",
    " Synset('frank.n.02'),\n",
    " Synset('pawl.n.01'),\n",
    " Synset('andiron.n.01')]\n",
    "```\n",
    "\n",
    "This question asks you to create synset-based features from the word/tag pairs in `middle_POS`.\n",
    "\n",
    "__To submit:__\n",
    "\n",
    "1. A feature function `synset_featurizer` that is just like `simple_bag_of_words_featurizer` except that it returns a list of synsets derived from `middle_POS`. Stringify these objects with `str` so that they can be `dict` keys. Use `convert_tag` (included below) to convert tags to `pos` arguments usable by `wn.synsets`. The included function `test_synset_featurizer` should help verify that you've done this correctly.\n",
    "\n",
    "2. A call to `rel_ext.experiment` with `synset_featurizer` as the only featurizer. (Aside from this, use all the default values for `rel_ext.experiment`.)"
   ]
  },
  {
   "cell_type": "code",
   "execution_count": 12,
   "metadata": {},
   "outputs": [
    {
     "name": "stderr",
     "output_type": "stream",
     "text": [
      "/home/ps/anaconda3/envs/nlu/lib/python3.7/site-packages/sklearn/svm/_base.py:947: ConvergenceWarning: Liblinear failed to converge, increase the number of iterations.\n",
      "  \"the number of iterations.\", ConvergenceWarning)\n"
     ]
    },
    {
     "name": "stdout",
     "output_type": "stream",
     "text": [
      "relation              precision     recall    f-score    support       size\n",
      "------------------    ---------  ---------  ---------  ---------  ---------\n",
      "adjoins                   0.785      0.332      0.617        340       5716\n",
      "author                    0.783      0.462      0.688        509       5885\n",
      "capital                   0.533      0.168      0.372         95       5471\n",
      "contains                  0.772      0.578      0.724       3904       9280\n",
      "film_performance          0.796      0.546      0.729        766       6142\n",
      "founders                  0.755      0.374      0.627        380       5756\n",
      "genre                     0.412      0.206      0.343        170       5546\n",
      "has_sibling               0.786      0.220      0.519        499       5875\n",
      "has_spouse                0.844      0.310      0.628        594       5970\n",
      "is_a                      0.585      0.227      0.445        497       5873\n",
      "nationality               0.517      0.150      0.347        301       5677\n",
      "parents                   0.759      0.545      0.704        312       5688\n",
      "place_of_birth            0.618      0.202      0.438        233       5609\n",
      "place_of_death            0.500      0.126      0.313        159       5535\n",
      "profession                0.544      0.174      0.382        247       5623\n",
      "worked_at                 0.633      0.236      0.473        242       5618\n",
      "------------------    ---------  ---------  ---------  ---------  ---------\n",
      "macro-average             0.664      0.303      0.522       9248      95264\n"
     ]
    }
   ],
   "source": [
    "from nltk.corpus import wordnet as wn\n",
    "\n",
    "def synset_featurizer(kbt, corpus, feature_counter):\n",
    "    \n",
    "    ##### YOUR CODE HERE\n",
    "    for ex in corpus.get_examples_for_entities(kbt.sbj, kbt.obj):\n",
    "        for word in get_synsets(ex.middle_POS):\n",
    "            feature_counter[word] += 1\n",
    "    for ex in corpus.get_examples_for_entities(kbt.obj, kbt.sbj):\n",
    "        for word in get_synsets(ex.middle_POS):\n",
    "            feature_counter[word] += 1\n",
    "    return feature_counter\n",
    "\n",
    "\n",
    "def get_synsets(s):\n",
    "    \"\"\"Suggested helper method for `synset_featurizer`. This should\n",
    "    be completed so that it returns a list of stringified Synsets \n",
    "    associated with elements of `s`.\n",
    "    \"\"\"   \n",
    "    # Use `parse_lem` from the previous question to get a list of\n",
    "    # (word, POS) pairs. Remember to convert the POS strings.\n",
    "    wt = [parse_lem(lem) for lem in s.strip().split(' ') if lem]\n",
    "    \n",
    "    ##### YOUR CODE HERE\n",
    "    \n",
    "    from nltk.corpus import wordnet as wn\n",
    "\n",
    "    w_synsets = []\n",
    "    for i in range(len(wt)):\n",
    "        current_synsets = [str(x) for x in wn.synsets(wt[i][0], pos=convert_tag(wt[i][1]))]\n",
    "        w_synsets += current_synsets\n",
    "        \n",
    "    w_synsets = set(w_synsets)\n",
    "    \n",
    "    return w_synsets\n",
    "    \n",
    "    \n",
    "def convert_tag(t):\n",
    "    \"\"\"Converts tags so that they can be used by WordNet:\n",
    "    \n",
    "    | Tag begins with | WordNet tag |\n",
    "    |-----------------|-------------|\n",
    "    | `N`             | `n`         |\n",
    "    | `V`             | `v`         |\n",
    "    | `J`             | `a`         |\n",
    "    | `R`             | `r`         |\n",
    "    | Otherwise       | `None`      |\n",
    "    \"\"\"        \n",
    "    if t[0].lower() in {'n', 'v', 'r'}:\n",
    "        return t[0].lower()\n",
    "    elif t[0].lower() == 'j':\n",
    "        return 'a'\n",
    "    else:\n",
    "        return None    \n",
    "\n",
    "\n",
    "# Call to `rel_ext.experiment`:\n",
    "##### YOUR CODE HERE    \n",
    "\n",
    "featurizers = [synset_featurizer]\n",
    "model_factory = lambda: LogisticRegression(fit_intercept=True, solver='liblinear')\n",
    "baseline_results = rel_ext.experiment(\n",
    "    splits,\n",
    "    train_split='train',\n",
    "    test_split='dev',\n",
    "    featurizers=featurizers,\n",
    "    model_factory=model_factory,\n",
    "    verbose=True)\n"
   ]
  },
  {
   "cell_type": "code",
   "execution_count": 29,
   "metadata": {},
   "outputs": [],
   "source": [
    "def test_synset_featurizer(corpus):\n",
    "    from collections import defaultdict\n",
    "    kbt = rel_ext.KBTriple(rel='worked_at', sbj='Randall_Munroe', obj='xkcd')\n",
    "    feature_counter = defaultdict(int)\n",
    "    # Make sure `feature_counter` is being updated, not reinitialized:\n",
    "    feature_counter[\"Synset('be.v.01')\"] += 5\n",
    "    feature_counter = synset_featurizer(kbt, corpus, feature_counter)\n",
    "    # The full return values for this tend to be long, so we just\n",
    "    # test a few examples to avoid cluttering up this notebook.\n",
    "    test_cases = {\n",
    "        \"Synset('be.v.01')\": 6,\n",
    "        \"Synset('embody.v.02')\": 1\n",
    "    }\n",
    "    for ss, expected in test_cases.items():   \n",
    "        result = feature_counter[ss]\n",
    "        assert result == expected, \\\n",
    "            \"Incorrect count for {}: Expected {}; Got {}\".format(ss, expected, result)"
   ]
  },
  {
   "cell_type": "code",
   "execution_count": 1,
   "metadata": {},
   "outputs": [
    {
     "ename": "NameError",
     "evalue": "name 'os' is not defined",
     "output_type": "error",
     "traceback": [
      "\u001b[0;31m---------------------------------------------------------------------------\u001b[0m",
      "\u001b[0;31mNameError\u001b[0m                                 Traceback (most recent call last)",
      "\u001b[0;32m<ipython-input-1-79011b9df924>\u001b[0m in \u001b[0;36m<module>\u001b[0;34m\u001b[0m\n\u001b[0;32m----> 1\u001b[0;31m \u001b[0;32mif\u001b[0m \u001b[0;34m'IS_GRADESCOPE_ENV'\u001b[0m \u001b[0;32mnot\u001b[0m \u001b[0;32min\u001b[0m \u001b[0mos\u001b[0m\u001b[0;34m.\u001b[0m\u001b[0menviron\u001b[0m\u001b[0;34m:\u001b[0m\u001b[0;34m\u001b[0m\u001b[0;34m\u001b[0m\u001b[0m\n\u001b[0m\u001b[1;32m      2\u001b[0m     \u001b[0mtest_synset_featurizer\u001b[0m\u001b[0;34m(\u001b[0m\u001b[0mcorpus\u001b[0m\u001b[0;34m)\u001b[0m\u001b[0;34m\u001b[0m\u001b[0;34m\u001b[0m\u001b[0m\n",
      "\u001b[0;31mNameError\u001b[0m: name 'os' is not defined"
     ]
    }
   ],
   "source": [
    "if 'IS_GRADESCOPE_ENV' not in os.environ:\n",
    "    test_synset_featurizer(corpus)"
   ]
  },
  {
   "cell_type": "markdown",
   "metadata": {},
   "source": [
    "### Your original system [3 points]\n",
    "\n",
    "There are many options, and this could easily grow into a project. Here are a few ideas:\n",
    "\n",
    "- Try out different classifier models, from `sklearn` and elsewhere.\n",
    "- Add a feature that indicates the length of the middle.\n",
    "- Augment the bag-of-words representation to include bigrams or trigrams (not just unigrams).\n",
    "- Introduce features based on the entity mentions themselves. <!-- \\[SPOILER: it helps a lot, maybe 4% in F-score. And combines nicely with the directional features.\\] -->\n",
    "- Experiment with features based on the context outside (rather than between) the two entity mentions — that is, the words before the first mention, or after the second.\n",
    "- Try adding features which capture syntactic information, such as the dependency-path features used by Mintz et al. 2009. The [NLTK](https://www.nltk.org/) toolkit contains a variety of [parsing algorithms](http://www.nltk.org/api/nltk.parse.html) that may help.\n",
    "- The bag-of-words representation does not permit generalization across word categories such as names of people, places, or companies. Can we do better using word embeddings such as [GloVe](https://nlp.stanford.edu/projects/glove/)?\n",
    "\n",
    "In the cell below, please provide a brief technical description of your original system, so that the teaching team can gain an understanding of what it does. This will help us to understand your code and analyze all the submissions to identify patterns and strategies."
   ]
  },
  {
   "cell_type": "code",
   "execution_count": 13,
   "metadata": {},
   "outputs": [
    {
     "name": "stdout",
     "output_type": "stream",
     "text": [
      "relation              precision     recall    f-score    support       size\n",
      "------------------    ---------  ---------  ---------  ---------  ---------\n",
      "adjoins                   0.849      0.447      0.720        340       5716\n",
      "author                    0.829      0.676      0.793        509       5885\n",
      "capital                   0.550      0.232      0.431         95       5471\n",
      "contains                  0.845      0.837      0.843       3904       9280\n",
      "film_performance          0.847      0.731      0.821        766       6142\n",
      "founders                  0.764      0.434      0.663        380       5756\n",
      "genre                     0.738      0.465      0.661        170       5546\n",
      "has_sibling               0.859      0.391      0.693        499       5875\n",
      "has_spouse                0.794      0.396      0.661        594       5970\n",
      "is_a                      0.642      0.382      0.565        497       5873\n",
      "nationality               0.725      0.684      0.717        301       5677\n",
      "parents                   0.809      0.571      0.747        312       5688\n",
      "place_of_birth            0.719      0.515      0.666        233       5609\n",
      "place_of_death            0.381      0.101      0.245        159       5535\n",
      "profession                0.591      0.368      0.527        247       5623\n",
      "worked_at                 0.748      0.380      0.627        242       5618\n",
      "------------------    ---------  ---------  ---------  ---------  ---------\n",
      "macro-average             0.731      0.476      0.649       9248      95264\n"
     ]
    }
   ],
   "source": [
    "# Enter your system description in this cell.\n",
    "# This is my code description attached here as requested\n",
    "# We implement six additional featurizers, namely length of the middle words and bigrams/trigrams of the \n",
    "# bag-of-words representation, and left and right window size of 1 and 5 featurizers including POS information. \n",
    "# After that, we combine all the featurizers we have implemented in above and feed into the experiment function \n",
    "# to do training. Adding left and right context improves the overall system significantly, interestingly note, \n",
    "# featurizing using 5-gram doesn't outperform unigram of size of 5. In addition, including window size of 1 and 5 \n",
    "# outperforms having only unigram window size of 5. This could due to the system give more weight to the immediate left and right \n",
    "# word of the two entity mentions.\n",
    "\n",
    "# My peak score was: 0.669\n",
    "# This is my code\n",
    "def length_words_featurizer(kbt, corpus, feature_counter):\n",
    "    for ex in corpus.get_examples_for_entities(kbt.sbj, kbt.obj):\n",
    "        feature_counter[str(len(ex.middle))] += 1\n",
    "    for ex in corpus.get_examples_for_entities(kbt.obj, kbt.sbj):\n",
    "        feature_counter[str(len(ex.middle))] += 1\n",
    "    return feature_counter\n",
    "    \n",
    "\n",
    "def complex_bag_of_words_featurizer(kbt, corpus, feature_counter):\n",
    "    for ex in corpus.get_examples_for_entities(kbt.sbj, kbt.obj):\n",
    "        unigram_words = ex.middle.split(' ')\n",
    "        bigram_words = get_ngram(unigram_words, n=2)\n",
    "        trigram_words = get_ngram(unigram_words, n=3)\n",
    "        \n",
    "        for word in unigram_words:\n",
    "            feature_counter[word] += 1\n",
    "        for word in bigram_words:\n",
    "            feature_counter[word] += 1\n",
    "        for word in trigram_words:\n",
    "            feature_counter[word] += 1\n",
    "    for ex in corpus.get_examples_for_entities(kbt.obj, kbt.sbj):\n",
    "        unigram_words = ex.middle.split(' ')\n",
    "        bigram_words = get_ngram(unigram_words, n=2)\n",
    "        trigram_words = get_ngram(unigram_words, n=3)\n",
    "        \n",
    "        for word in unigram_words:\n",
    "            feature_counter[word] += 1\n",
    "        for word in bigram_words:\n",
    "            feature_counter[word] += 1\n",
    "        for word in trigram_words:\n",
    "            feature_counter[word] += 1\n",
    "    return feature_counter\n",
    "\n",
    "\n",
    "def get_ngram(s, n):\n",
    "    start_symbol = \"<s>\"\n",
    "    end_symbol = \"</s>\"\n",
    "    \n",
    "    s = [start_symbol] + s + [end_symbol]\n",
    "    ngram_list = []\n",
    "    if n == 2:\n",
    "        for x, y in zip(s, s[1:]): \n",
    "            ngram_list.append(x+' '+y)\n",
    "    elif n == 3:\n",
    "        if len(s) < 3:\n",
    "            return [\"<s> </s>\"]\n",
    "        for x, y, z in zip(s, s[1:], s[2:]): \n",
    "            ngram_list.append(x+' '+y+' '+z)\n",
    "        \n",
    "    return ngram_list\n",
    "\n",
    "\n",
    "def left_window_size_5_featurizer(kbt, corpus, feature_counter):\n",
    "    window_size = 5\n",
    "    for ex in corpus.get_examples_for_entities(kbt.sbj, kbt.obj):\n",
    "        word_pos_pair = ex.left_POS.split(' ')\n",
    "        if len(word_pos_pair):\n",
    "            for i in range(window_size):\n",
    "                try:\n",
    "                    w_pos = word_pos_pair[-i].split('/')\n",
    "                    if len(w_pos) == 2:\n",
    "                        w = w_pos[0]\n",
    "                        p = w_pos[1]\n",
    "                        feature_counter[w + ' ' + p] += 1 # word\n",
    "                except:\n",
    "                    break\n",
    "\n",
    "        \n",
    "    for ex in corpus.get_examples_for_entities(kbt.obj, kbt.sbj):\n",
    "        word_pos_pair = ex.left_POS.split(' ')\n",
    "        if len(word_pos_pair):\n",
    "            for i in range(window_size):\n",
    "                try:\n",
    "                    w_pos = word_pos_pair[-i].split('/')\n",
    "                    if len(w_pos) == 2:\n",
    "                        w = w_pos[0]\n",
    "                        p = w_pos[1]\n",
    "                        feature_counter[w + ' ' + p] += 1 # word\n",
    "                except:\n",
    "                    break\n",
    "    return feature_counter\n",
    "\n",
    "def right_window_size_5_featurizer(kbt, corpus, feature_counter):\n",
    "    window_size = 5\n",
    "    for ex in corpus.get_examples_for_entities(kbt.sbj, kbt.obj):\n",
    "        word_pos_pair = ex.right_POS.split(' ')\n",
    "        if len(word_pos_pair):\n",
    "            for i in range(window_size):\n",
    "                try:\n",
    "                    w_pos = word_pos_pair[i].split('/')\n",
    "                    if len(w_pos) == 2:\n",
    "                        w = w_pos[0]\n",
    "                        p = w_pos[1]\n",
    "                        feature_counter[w + ' ' + p] += 1 # word\n",
    "                except:\n",
    "                    break\n",
    "\n",
    "        \n",
    "    for ex in corpus.get_examples_for_entities(kbt.obj, kbt.sbj):\n",
    "        word_pos_pair = ex.right_POS.split(' ')\n",
    "        if len(word_pos_pair):\n",
    "            for i in range(window_size):\n",
    "                try:\n",
    "                    w_pos = word_pos_pair[i].split('/')\n",
    "                    if len(w_pos) == 2:\n",
    "                        w = w_pos[0]\n",
    "                        p = w_pos[1]\n",
    "                        feature_counter[w + ' ' + p] += 1 # word\n",
    "                except:\n",
    "                    break\n",
    "\n",
    "    return feature_counter\n",
    "\n",
    "\n",
    "def left_window_size_1_featurizer(kbt, corpus, feature_counter):\n",
    "    for ex in corpus.get_examples_for_entities(kbt.sbj, kbt.obj):\n",
    "        word_pos_pair = ex.left_POS.split(' ')\n",
    "        if len(word_pos_pair):\n",
    "            w_pos = word_pos_pair[-1].split('/')\n",
    "            if len(w_pos) == 2:\n",
    "                w = w_pos[0]\n",
    "                p = w_pos[1]\n",
    "                feature_counter[w + ' ' + p] += 1 # word\n",
    "        \n",
    "    for ex in corpus.get_examples_for_entities(kbt.obj, kbt.sbj):\n",
    "        word_pos_pair = ex.left_POS.split(' ')\n",
    "        if len(word_pos_pair):\n",
    "            w_pos = word_pos_pair[-1].split('/')\n",
    "            if len(w_pos) == 2:\n",
    "                w = w_pos[0]\n",
    "                p = w_pos[1]\n",
    "                feature_counter[w + ' ' + p] += 1 # word\n",
    "    return feature_counter\n",
    "\n",
    "def right_window_size_1_featurizer(kbt, corpus, feature_counter):\n",
    "    for ex in corpus.get_examples_for_entities(kbt.sbj, kbt.obj):\n",
    "        word_pos_pair = ex.right_POS.split(' ')\n",
    "        if len(word_pos_pair):\n",
    "            w_pos = word_pos_pair[0].split('/')\n",
    "            if len(w_pos) == 2:\n",
    "                w = w_pos[0]\n",
    "                p = w_pos[1]\n",
    "                feature_counter[w + ' ' + p] += 1 # word\n",
    "        \n",
    "    for ex in corpus.get_examples_for_entities(kbt.obj, kbt.sbj):\n",
    "        word_pos_pair = ex.right_POS.split(' ')\n",
    "        if len(word_pos_pair):\n",
    "            w_pos = word_pos_pair[0].split('/')\n",
    "            if len(w_pos) == 2:\n",
    "                w = w_pos[0]\n",
    "                p = w_pos[1]\n",
    "                feature_counter[w + ' ' + p] += 1 # word\n",
    "    return feature_counter\n",
    "\n",
    "\n",
    "if 'IS_GRADESCOPE_ENV' not in os.environ:\n",
    "    featurizers = [left_window_size_5_featurizer, right_window_size_5_featurizer, left_window_size_1_featurizer, right_window_size_1_featurizer,complex_bag_of_words_featurizer, length_words_featurizer, directional_bag_of_words_featurizer,middle_bigram_pos_tag_featurizer,synset_featurizer]\n",
    "    model_factory = lambda: LogisticRegression(fit_intercept=True, solver='liblinear')\n",
    "\n",
    "    baseline_results = rel_ext.experiment(\n",
    "        splits,\n",
    "        train_split='train',\n",
    "        test_split='dev',\n",
    "        featurizers=featurizers,\n",
    "        model_factory=model_factory,\n",
    "        verbose=True)\n",
    "\n",
    "# Please do not remove this comment."
   ]
  },
  {
   "cell_type": "markdown",
   "metadata": {},
   "source": [
    "## Bake-off [1 point]\n",
    "\n",
    "For the bake-off, we will release a test set. The announcement will go out on the discussion forum. You will evaluate your custom model from the previous question on these new datasets using the function `rel_ext.bake_off_experiment`. Rules:\n",
    "\n",
    "1. Only one evaluation is permitted.\n",
    "1. No additional system tuning is permitted once the bake-off has started.\n",
    "\n",
    "The cells below this one constitute your bake-off entry.\n",
    "\n",
    "People who enter will receive the additional homework point, and people whose systems achieve the top score will receive an additional 0.5 points. We will test the top-performing systems ourselves, and only systems for which we can reproduce the reported results will win the extra 0.5 points.\n",
    "\n",
    "Late entries will be accepted, but they cannot earn the extra 0.5 points. Similarly, you cannot win the bake-off unless your homework is submitted on time.\n",
    "\n",
    "The announcement will include the details on where to submit your entry."
   ]
  },
  {
   "cell_type": "code",
   "execution_count": 18,
   "metadata": {},
   "outputs": [
    {
     "name": "stdout",
     "output_type": "stream",
     "text": [
      "relation              precision     recall    f-score    support       size\n",
      "------------------    ---------  ---------  ---------  ---------  ---------\n",
      "adjoins                   0.879      0.516      0.771        438       7122\n",
      "author                    0.850      0.678      0.809        645       7329\n",
      "capital                   0.647      0.383      0.568        115       6799\n",
      "contains                  0.830      0.797      0.823       3808      10492\n",
      "film_performance          0.876      0.777      0.855       1011       7695\n",
      "founders                  0.773      0.482      0.689        444       7128\n",
      "genre                     0.773      0.399      0.651        188       6872\n",
      "has_sibling               0.878      0.350      0.674        717       7401\n",
      "has_spouse                0.858      0.432      0.716        780       7464\n",
      "is_a                      0.707      0.391      0.609        611       7295\n",
      "nationality               0.542      0.319      0.475        383       7067\n",
      "parents                   0.878      0.588      0.799        427       7111\n",
      "place_of_birth            0.659      0.306      0.535        291       6975\n",
      "place_of_death            0.571      0.240      0.448        200       6884\n",
      "profession                0.674      0.313      0.547        310       6994\n",
      "worked_at                 0.789      0.464      0.693        323       7007\n",
      "------------------    ---------  ---------  ---------  ---------  ---------\n",
      "macro-average             0.762      0.465      0.666      10691     117635\n"
     ]
    }
   ],
   "source": [
    "# Enter your bake-off assessment code in this cell. \n",
    "# Please do not remove this comment.\n",
    "if 'IS_GRADESCOPE_ENV' not in os.environ:\n",
    "    # Please enter your code in the scope of the above conditional.\n",
    "    ##### YOUR CODE HERE\n",
    "    rel_ext_data_home_test = os.path.join(\n",
    "        rel_ext_data_home, 'bakeoff-rel_ext-test-data')\n",
    "\n",
    "    featurizers = [left_window_size_5_featurizer, right_window_size_5_featurizer, left_window_size_1_featurizer, right_window_size_1_featurizer,complex_bag_of_words_featurizer, length_words_featurizer, directional_bag_of_words_featurizer,middle_bigram_pos_tag_featurizer,synset_featurizer]\n",
    "    model_factory = lambda: LogisticRegression(fit_intercept=True, solver='liblinear')\n",
    "\n",
    "    bakeoff_results = rel_ext.experiment(\n",
    "        splits,\n",
    "        train_split='train',\n",
    "        test_split='dev',\n",
    "        featurizers=featurizers,\n",
    "        model_factory=model_factory,\n",
    "        verbose=False)\n",
    "    \n",
    "    rel_ext.bake_off_experiment(bakeoff_results, rel_ext_data_home_test)\n"
   ]
  },
  {
   "cell_type": "code",
   "execution_count": 33,
   "metadata": {},
   "outputs": [],
   "source": [
    "# On an otherwise blank line in this cell, please enter\n",
    "# your macro-average f-score (an F_0.5 score) as reported \n",
    "# by the code above. Please enter only a number between \n",
    "# 0 and 1 inclusive. Please do not remove this comment.\n",
    "if 'IS_GRADESCOPE_ENV' not in os.environ:\n",
    "    pass\n",
    "    # Please enter your score in the scope of the above conditional.\n",
    "    ##### YOUR CODE HERE\n",
    "    0.666\n",
    "\n",
    "\n"
   ]
  }
 ],
 "metadata": {
  "kernelspec": {
   "display_name": "Python 3",
   "language": "python",
   "name": "python3"
  },
  "language_info": {
   "codemirror_mode": {
    "name": "ipython",
    "version": 3
   },
   "file_extension": ".py",
   "mimetype": "text/x-python",
   "name": "python",
   "nbconvert_exporter": "python",
   "pygments_lexer": "ipython3",
   "version": "3.7.6"
  }
 },
 "nbformat": 4,
 "nbformat_minor": 2
}
